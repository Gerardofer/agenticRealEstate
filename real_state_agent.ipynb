{
 "cells": [
  {
   "cell_type": "code",
   "execution_count": 4,
   "metadata": {},
   "outputs": [
    {
     "name": "stdout",
     "output_type": "stream",
     "text": [
      "Note: you may need to restart the kernel to use updated packages.\n"
     ]
    }
   ],
   "source": [
    "%pip install -qU langgraph langchain langchain_openai langchain_experimental pymupdf tiktoken python-dotenv"
   ]
  },
  {
   "cell_type": "code",
   "execution_count": 1,
   "metadata": {},
   "outputs": [],
   "source": [
    "import os\n",
    "from dotenv import load_dotenv\n",
    "from langchain_openai import ChatOpenAI\n",
    "# from helper.file_loader import FileLoader\n",
    "\n",
    "load_dotenv()\n",
    "\n",
    "open_ai_key = os.getenv(\"OPENAI_API_KEY\")\n",
    "langchain_key = os.getenv(\"LANGCHAIN_API_KEY\")\n",
    "\n",
    "llm = ChatOpenAI(api_key=open_ai_key, model=\"gpt-4o\")"
   ]
  },
  {
   "cell_type": "code",
   "execution_count": 4,
   "metadata": {},
   "outputs": [],
   "source": [
    "from langchain.document_loaders import PyMuPDFLoader\n",
    "\n",
    "document = PyMuPDFLoader(\"assets/real_estate_book_practice.pdf\").load()"
   ]
  },
  {
   "cell_type": "code",
   "execution_count": 5,
   "metadata": {},
   "outputs": [],
   "source": [
    "import tiktoken\n",
    "from langchain.text_splitter import RecursiveCharacterTextSplitter\n",
    "\n",
    "def tiktoken_len(text):\n",
    "    tokens = tiktoken.encoding_for_model(\"gpt-4o-mini\").encode(\n",
    "        text,\n",
    "    )\n",
    "    return len(tokens)\n",
    "\n",
    "text_splitter = RecursiveCharacterTextSplitter(\n",
    "    chunk_size = 300,\n",
    "    chunk_overlap = 0,\n",
    "    length_function = tiktoken_len,\n",
    ")\n",
    "\n",
    "split_chunks = text_splitter.split_documents(document)"
   ]
  },
  {
   "cell_type": "code",
   "execution_count": 8,
   "metadata": {},
   "outputs": [
    {
     "name": "stdout",
     "output_type": "stream",
     "text": [
      "total split into 1604 documents\n",
      "First document: page_content='agent, while the sales agent is the “agent of the (buyer’s) agent.”1 [See RPI \n",
      "Form 305 §3]\n",
      "Historically, and incorrectly, the broker and their agent who represented \n",
      "a buyer in a sales transaction were — but no longer are — referred to \n",
      "as subagents within the residential multiple listing service (MLS) \n",
      "brokerage community until the late 1980s. The misnomer was a product of \n",
      "the pre-1980s MLS environment. As the genesis, it was said all brokers (and \n",
      "their agents) who were members of a trade union’s MLS were automatically \n",
      "“seller’s agents.” Thus, MLS subscribers working directly with a buyer were \n",
      "merely subagents employed by the seller to sell a property listed in the MLS \n",
      "through the seller’s primary broker. \n",
      "1\t  Calif. Civil Code §2079.13(n)\n",
      "An industry-\n",
      "wide \n",
      "membership \n",
      "misconception \n",
      " \n",
      "subagent \n",
      "An individual who \n",
      "has been delegated \n",
      "agency duties by a \n",
      "broker employed by \n",
      "a client, not the client \n",
      "themselves.\n",
      "Agency Law Disclosure \n",
      "double-end\n",
      "multiple listing service (MLS)\n",
      "price fixing\n",
      "subagent\n",
      "supra-competitive\n",
      "Key Terms\n",
      "Learning \n",
      "Objectives' metadata={'source': 'assets/real_estate_book_practice.pdf', 'file_path': 'assets/real_estate_book_practice.pdf', 'page': 39, 'total_pages': 596, 'format': 'PDF 1.6', 'title': '', 'author': '', 'subject': '', 'keywords': '', 'creator': 'Adobe InDesign 18.1 (Windows)', 'producer': 'Adobe PDF Library 17.0', 'creationDate': \"D:20230224151521-08'00'\", 'modDate': \"D:20230427153609-07'00'\", 'trapped': ''}\n"
     ]
    }
   ],
   "source": [
    "print(f\"total split into {len(split_chunks)} documents\")\n",
    "print(f\"First document: {split_chunks[100]}\")"
   ]
  },
  {
   "cell_type": "code",
   "execution_count": 10,
   "metadata": {},
   "outputs": [],
   "source": [
    "from langchain_openai.embeddings import OpenAIEmbeddings\n",
    "\n",
    "embedding_model = OpenAIEmbeddings(model=\"text-embedding-3-small\")"
   ]
  },
  {
   "cell_type": "code",
   "execution_count": 11,
   "metadata": {},
   "outputs": [
    {
     "name": "stdout",
     "output_type": "stream",
     "text": [
      "Note: you may need to restart the kernel to use updated packages.\n"
     ]
    }
   ],
   "source": [
    "%pip install -qU --disable-pip-version-check qdrant-client"
   ]
  },
  {
   "cell_type": "code",
   "execution_count": 12,
   "metadata": {},
   "outputs": [],
   "source": [
    "from langchain_community.vectorstores import Qdrant\n",
    "\n",
    "qdrant_vectorstore = Qdrant.from_documents(\n",
    "  split_chunks,\n",
    "  embedding_model,\n",
    "  location=\":memory:\",\n",
    "  collection_name=\"extending_context_window_llama_3\",\n",
    ")"
   ]
  },
  {
   "cell_type": "code",
   "execution_count": 13,
   "metadata": {},
   "outputs": [],
   "source": [
    "qdrant_retriever = qdrant_vectorstore.as_retriever()"
   ]
  },
  {
   "cell_type": "code",
   "execution_count": 20,
   "metadata": {},
   "outputs": [],
   "source": [
    "from langchain_core.prompts import ChatPromptTemplate\n",
    "\n",
    "RAG_PROMPT = \"\"\"\n",
    "CONTEXT: \n",
    "{context}\n",
    "\n",
    "QUERY: \n",
    "{question}\n",
    "\n",
    "You are a Real Estate Agent with 20 years of experience that enjoys mentoring your clients. Use the available context to answer the question. If you can't answer the question say you don't know.\n",
    "\"\"\"\n",
    "\n",
    "rag_prompt = ChatPromptTemplate.from_template(RAG_PROMPT)"
   ]
  },
  {
   "cell_type": "code",
   "execution_count": 21,
   "metadata": {},
   "outputs": [],
   "source": [
    "from operator import itemgetter\n",
    "from langchain.schema.output_parser import StrOutputParser\n",
    "\n",
    "rag_chain = (\n",
    "  {\"context\": itemgetter(\"question\") | qdrant_retriever, \"question\": itemgetter(\"question\")}\n",
    "  | rag_prompt | llm | StrOutputParser()\n",
    ")"
   ]
  },
  {
   "cell_type": "code",
   "execution_count": 22,
   "metadata": {},
   "outputs": [
    {
     "data": {
      "text/plain": [
       "\"As a real estate agent with 20 years of experience, I can tell you that a real estate agent works for their employing broker. According to the provided context, an agent is strictly an agent of the employing broker and cannot contract in their own name or on behalf of anyone other than their employing broker. This means the agent performs services in real estate transactions as a representative leashed to their broker for supervision, all mandated by state codes and regulations. Any fees for services the agent performs are always paid to their employing broker. Thus, an agent's primary allegiance and employment are tied to the broker they work under.\""
      ]
     },
     "execution_count": 22,
     "metadata": {},
     "output_type": "execute_result"
    }
   ],
   "source": [
    "#testing the chain\n",
    "rag_chain.invoke({\"question\": \"who does a real estate agent work for?\"})"
   ]
  }
 ],
 "metadata": {
  "kernelspec": {
   "display_name": "Python 3",
   "language": "python",
   "name": "python3"
  },
  "language_info": {
   "codemirror_mode": {
    "name": "ipython",
    "version": 3
   },
   "file_extension": ".py",
   "mimetype": "text/x-python",
   "name": "python",
   "nbconvert_exporter": "python",
   "pygments_lexer": "ipython3",
   "version": "3.11.9"
  }
 },
 "nbformat": 4,
 "nbformat_minor": 2
}
